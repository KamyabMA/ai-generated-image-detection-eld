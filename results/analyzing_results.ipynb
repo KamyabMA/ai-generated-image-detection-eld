{
 "cells": [
  {
   "cell_type": "code",
   "execution_count": 1,
   "id": "c6b44a90",
   "metadata": {},
   "outputs": [],
   "source": [
    "PATH_TO_MAIN_DIR = \"/Users/kamymacbook/Documents/RWTH Aachen/Master Informatik 2.Semester/Laboratory Deep Learning/dll25-ai-generated-image-detector (repo)\"\n",
    "\n",
    "import os\n",
    "assert os.path.isdir(PATH_TO_MAIN_DIR), \"Set the path to the main direcotry correctly. Currently it is not set right.\"\n",
    "os.chdir(os.path.expanduser(PATH_TO_MAIN_DIR))"
   ]
  },
  {
   "cell_type": "code",
   "execution_count": 2,
   "id": "b6519353",
   "metadata": {},
   "outputs": [],
   "source": [
    "import pandas as pd\n",
    "import numpy as np\n",
    "\n",
    "from constants import *\n",
    "from results.analyzing_results_utils import get_accuracy_matrix, cross_dataset_score, percentage_change, numpy_to_matrix, average_diagonal"
   ]
  },
  {
   "cell_type": "code",
   "execution_count": 3,
   "id": "f37cf81c",
   "metadata": {},
   "outputs": [],
   "source": [
    "d = 3"
   ]
  },
  {
   "cell_type": "code",
   "execution_count": 4,
   "id": "676b38ff",
   "metadata": {},
   "outputs": [],
   "source": [
    "baseline_DINOv2S_1_0_0_accuracy_matrix = get_accuracy_matrix(\"approach_baseline/output/Config_DINOv2S_1_0_0/exp_generalizability_test\").values\n",
    "baseline_DINOv2S_1_0_1_accuracy_matrix = get_accuracy_matrix(\"approach_baseline/output/Config_DINOv2S_1_0_1/exp_generalizability_test\").values\n",
    "baseline_DINOv2S_1_LN_1_accuracy_matrix = get_accuracy_matrix(\"approach_baseline/output/Config_DINOv2S_1_LN_1/exp_generalizability_test\").values\n",
    "baseline_DINOv2S_1_LN_2_accuracy_matrix = get_accuracy_matrix(\"approach_baseline/output/Config_DINOv2S_1_LN_2/exp_generalizability_test\").values\n",
    "baseline_DINOv2S_1_LN_3_accuracy_matrix = get_accuracy_matrix(\"approach_baseline/output/Config_DINOv2S_1_LN_3/exp_generalizability_test\").values\n",
    "baseline_DINOv2S_1_LNdrop03_2_accuracy_matrix = get_accuracy_matrix(\"approach_baseline/output/Config_DINOv2S_1_LNdrop03_2/exp_generalizability_test\").values\n",
    "baseline_DINOv2S_3_0_0_accuracy_matrix = get_accuracy_matrix(\"approach_baseline/output/Config_DINOv2S_3_0_0/exp_generalizability_test\").values\n",
    "baseline_DINOv2S_3_0_1_accuracy_matrix = get_accuracy_matrix(\"approach_baseline/output/Config_DINOv2S_3_0_1/exp_generalizability_test\").values\n",
    "baseline_DINOv2S_3_LN_1_accuracy_matrix = get_accuracy_matrix(\"approach_baseline/output/Config_DINOv2S_3_LN_1/exp_generalizability_test\").values\n",
    "baseline_DINOv2S_3_LN_2_accuracy_matrix = get_accuracy_matrix(\"approach_baseline/output/Config_DINOv2S_3_LN_2/exp_generalizability_test\").values\n",
    "baseline_DINOv2S_3_LN_3_accuracy_matrix = get_accuracy_matrix(\"approach_baseline/output/Config_DINOv2S_3_LN_3/exp_generalizability_test\").values\n",
    "baseline_DINOv2S_3_LNdrop03_2_accuracy_matrix = get_accuracy_matrix(\"approach_baseline/output/Config_DINOv2S_3_LNdrop03_2/exp_generalizability_test\").values\n",
    "\n",
    "baseline_DINOv2L_1_0_0_accuracy_matrix = get_accuracy_matrix(\"approach_baseline/output/Config_DINOv2L_1_0_0/exp_generalizability_test\").values\n",
    "\n",
    "baseline_CLIPvitL_1_0_0_accuracy_matrix = get_accuracy_matrix(\"approach_baseline/output/Model_CLIPvitL_1_0_0/exp_generalizability_test\").values\n",
    "\n",
    "# ---\n",
    "\n",
    "eld_DINOv2S_1_0_0_accuracy_matrix = get_accuracy_matrix(\"approach_eld/output/Config_DINOv2S_1_0_0/exp_generalizability_test\").values\n",
    "eld_DINOv2S_1_LN_2_accuracy_matrix = get_accuracy_matrix(\"approach_eld/output/Config_DINOv2S_1_LN_2/exp_generalizability_test\").values\n",
    "eld_DINOv2S_3_LN_2_accuracy_matrix = get_accuracy_matrix(\"approach_eld/output/Config_DINOv2S_3_LN_2/exp_generalizability_test\").values\n",
    "\n",
    "eld_DINOv2L_1_0_0_accuracy_matrix = get_accuracy_matrix(\"approach_eld/output/Config_DINOv2L_1_0_0/exp_generalizability_test\").values\n",
    "eld_DINOv2L_1_LN_1_accuracy_matrix = get_accuracy_matrix(\"approach_eld/output/Config_DINOv2L_1_LN_1/exp_generalizability_test\").values\n",
    "eld_DINOv2L_1_LN_1_ELD_1_accuracy_matrix = get_accuracy_matrix(\"approach_eld/output/Config_DINOv2L_1_LN_1_ELD_1/exp_generalizability_test\").values\n",
    "eld_DINOv2L_1_LN_1_ELD_2_accuracy_matrix = get_accuracy_matrix(\"approach_eld/output/Config_DINOv2L_1_LN_1_ELD_2/exp_generalizability_test\").values\n",
    "eld_DINOv2L_1_LN_1_ELD_3_accuracy_matrix = get_accuracy_matrix(\"approach_eld/output/Config_DINOv2L_1_LN_1_ELD_3/exp_generalizability_test\").values\n",
    "\n",
    "eld_CLIPvitL_1_0_0_accuracy_matrix = get_accuracy_matrix(\"approach_eld/output/Config_CLIPvitL_1_0_0/exp_generalizability_test\").values"
   ]
  },
  {
   "cell_type": "markdown",
   "id": "72144f17",
   "metadata": {},
   "source": [
    "---"
   ]
  },
  {
   "cell_type": "markdown",
   "id": "fdcd0178",
   "metadata": {},
   "source": [
    "## Optimizing Baseline DINOv2 S:"
   ]
  },
  {
   "cell_type": "code",
   "execution_count": 6,
   "id": "db13ac5d",
   "metadata": {},
   "outputs": [
    {
     "name": "stdout",
     "output_type": "stream",
     "text": [
      "average_diagonal_accuracy - baseline_DINOv2S_1_0_0: 0.823\n",
      "average_diagonal_accuracy - baseline_DINOv2S_1_0_1: 0.855\n",
      "average_diagonal_accuracy - baseline_DINOv2S_1_LN_1: 0.864\n",
      "average_diagonal_accuracy - baseline_DINOv2S_1_LN_2: 0.876\n",
      "average_diagonal_accuracy - baseline_DINOv2S_1_LN_3: 0.885\n",
      "average_diagonal_accuracy - baseline_DINOv2S_1_LNdrop03_2: 0.872\n",
      "average_diagonal_accuracy - baseline_DINOv2S_3_0_0: 0.824\n",
      "average_diagonal_accuracy - baseline_DINOv2S_3_0_1: 0.843\n",
      "average_diagonal_accuracy - baseline_DINOv2S_3_LN_1: 0.876\n",
      "average_diagonal_accuracy - baseline_DINOv2S_3_LN_2: 0.885\n",
      "average_diagonal_accuracy - baseline_DINOv2S_3_LN_3: 0.885\n",
      "average_diagonal_accuracy - baseline_DINOv2S_3_LNdrop03_2: 0.866\n"
     ]
    }
   ],
   "source": [
    "print(f\"average_diagonal_accuracy - baseline_DINOv2S_1_0_0: {average_diagonal(baseline_DINOv2S_1_0_0_accuracy_matrix)}\")\n",
    "print(f\"average_diagonal_accuracy - baseline_DINOv2S_1_0_1: {average_diagonal(baseline_DINOv2S_1_0_1_accuracy_matrix)}\")\n",
    "print(f\"average_diagonal_accuracy - baseline_DINOv2S_1_LN_1: {average_diagonal(baseline_DINOv2S_1_LN_1_accuracy_matrix)}\")\n",
    "print(f\"average_diagonal_accuracy - baseline_DINOv2S_1_LN_2: {average_diagonal(baseline_DINOv2S_1_LN_2_accuracy_matrix)}\")\n",
    "print(f\"average_diagonal_accuracy - baseline_DINOv2S_1_LN_3: {average_diagonal(baseline_DINOv2S_1_LN_3_accuracy_matrix)}\")\n",
    "print(f\"average_diagonal_accuracy - baseline_DINOv2S_1_LNdrop03_2: {average_diagonal(baseline_DINOv2S_1_LNdrop03_2_accuracy_matrix)}\")\n",
    "print(f\"average_diagonal_accuracy - baseline_DINOv2S_3_0_0: {average_diagonal(baseline_DINOv2S_3_0_0_accuracy_matrix)}\")\n",
    "print(f\"average_diagonal_accuracy - baseline_DINOv2S_3_0_1: {average_diagonal(baseline_DINOv2S_3_0_1_accuracy_matrix)}\")\n",
    "print(f\"average_diagonal_accuracy - baseline_DINOv2S_3_LN_1: {average_diagonal(baseline_DINOv2S_3_LN_1_accuracy_matrix)}\")\n",
    "print(f\"average_diagonal_accuracy - baseline_DINOv2S_3_LN_2: {average_diagonal(baseline_DINOv2S_3_LN_2_accuracy_matrix)}\")\n",
    "print(f\"average_diagonal_accuracy - baseline_DINOv2S_3_LN_3: {average_diagonal(baseline_DINOv2S_3_LN_3_accuracy_matrix)}\")\n",
    "print(f\"average_diagonal_accuracy - baseline_DINOv2S_3_LNdrop03_2: {average_diagonal(baseline_DINOv2S_3_LNdrop03_2_accuracy_matrix)}\")"
   ]
  },
  {
   "cell_type": "code",
   "execution_count": 7,
   "id": "af913fbd",
   "metadata": {},
   "outputs": [
    {
     "name": "stdout",
     "output_type": "stream",
     "text": [
      "average_cross_dataset_accuracy - baseline_DINOv2S_1_0_0: 0.586\n",
      "average_cross_dataset_accuracy - baseline_DINOv2S_1_0_1: 0.615\n",
      "average_cross_dataset_accuracy - baseline_DINOv2S_1_LN_1: 0.631\n",
      "average_cross_dataset_accuracy - baseline_DINOv2S_1_LN_2: 0.634\n",
      "average_cross_dataset_accuracy - baseline_DINOv2S_1_LN_3: 0.632\n",
      "average_cross_dataset_accuracy - baseline_DINOv2S_1_LNdrop03_2: 0.627\n",
      "average_cross_dataset_accuracy - baseline_DINOv2S_3_0_0: 0.585\n",
      "average_cross_dataset_accuracy - baseline_DINOv2S_3_0_1: 0.609\n",
      "average_cross_dataset_accuracy - baseline_DINOv2S_3_LN_1: 0.625\n",
      "average_cross_dataset_accuracy - baseline_DINOv2S_3_LN_2: 0.633\n",
      "average_cross_dataset_accuracy - baseline_DINOv2S_3_LN_3: 0.631\n",
      "average_cross_dataset_accuracy - baseline_DINOv2S_3_LNdrop03_2: 0.624\n"
     ]
    }
   ],
   "source": [
    "print(f\"average_cross_dataset_accuracy - baseline_DINOv2S_1_0_0: {cross_dataset_score(baseline_DINOv2S_1_0_0_accuracy_matrix)}\")\n",
    "print(f\"average_cross_dataset_accuracy - baseline_DINOv2S_1_0_1: {cross_dataset_score(baseline_DINOv2S_1_0_1_accuracy_matrix)}\")\n",
    "print(f\"average_cross_dataset_accuracy - baseline_DINOv2S_1_LN_1: {cross_dataset_score(baseline_DINOv2S_1_LN_1_accuracy_matrix)}\")\n",
    "print(f\"average_cross_dataset_accuracy - baseline_DINOv2S_1_LN_2: {cross_dataset_score(baseline_DINOv2S_1_LN_2_accuracy_matrix)}\")\n",
    "print(f\"average_cross_dataset_accuracy - baseline_DINOv2S_1_LN_3: {cross_dataset_score(baseline_DINOv2S_1_LN_3_accuracy_matrix)}\")\n",
    "print(f\"average_cross_dataset_accuracy - baseline_DINOv2S_1_LNdrop03_2: {cross_dataset_score(baseline_DINOv2S_1_LNdrop03_2_accuracy_matrix)}\")\n",
    "print(f\"average_cross_dataset_accuracy - baseline_DINOv2S_3_0_0: {cross_dataset_score(baseline_DINOv2S_3_0_0_accuracy_matrix)}\")\n",
    "print(f\"average_cross_dataset_accuracy - baseline_DINOv2S_3_0_1: {cross_dataset_score(baseline_DINOv2S_3_0_1_accuracy_matrix)}\")\n",
    "print(f\"average_cross_dataset_accuracy - baseline_DINOv2S_3_LN_1: {cross_dataset_score(baseline_DINOv2S_3_LN_1_accuracy_matrix)}\")\n",
    "print(f\"average_cross_dataset_accuracy - baseline_DINOv2S_3_LN_2: {cross_dataset_score(baseline_DINOv2S_3_LN_2_accuracy_matrix)}\")\n",
    "print(f\"average_cross_dataset_accuracy - baseline_DINOv2S_3_LN_3: {cross_dataset_score(baseline_DINOv2S_3_LN_3_accuracy_matrix)}\")\n",
    "print(f\"average_cross_dataset_accuracy - baseline_DINOv2S_3_LNdrop03_2: {cross_dataset_score(baseline_DINOv2S_3_LNdrop03_2_accuracy_matrix)}\")"
   ]
  },
  {
   "cell_type": "markdown",
   "id": "7e16d191",
   "metadata": {},
   "source": [
    "## Comparing different approaches and backbones:"
   ]
  },
  {
   "cell_type": "code",
   "execution_count": 8,
   "id": "c6fc43f5",
   "metadata": {},
   "outputs": [
    {
     "name": "stdout",
     "output_type": "stream",
     "text": [
      "average_diagonal_accuracy - baseline_DINOv2S_1_0_0: 0.823\n",
      "average_diagonal_accuracy - eld_DINOv2L_1_0_0: 0.886\n",
      "---\n",
      "average_diagonal_accuracy - baseline_DINOv2S_1_LN_2: 0.876\n",
      "average_diagonal_accuracy - eld_DINOv2S_1_LN_2: 0.909\n",
      "---\n",
      "average_diagonal_accuracy - baseline_DINOv2S_3_LN_2: 0.885\n",
      "average_diagonal_accuracy - eld_DINOv2S_3_LN_2: 0.921\n",
      "---\n",
      "average_diagonal_accuracy - baseline_DINOv2L_1_0_0: 0.87\n",
      "average_diagonal_accuracy - eld_DINOv2L_1_0_0: 0.928\n",
      "---\n",
      "average_diagonal_accuracy - baseline_CLIPvitL_1_0_0: 0.897\n",
      "average_diagonal_accuracy - eld_CLIPvitL_1_0_0: 0.886\n"
     ]
    }
   ],
   "source": [
    "print(f\"average_diagonal_accuracy - baseline_DINOv2S_1_0_0: {average_diagonal(baseline_DINOv2S_1_0_0_accuracy_matrix)}\")\n",
    "print(f\"average_diagonal_accuracy - eld_DINOv2L_1_0_0: {average_diagonal(eld_DINOv2S_1_0_0_accuracy_matrix)}\")\n",
    "print(\"---\")\n",
    "print(f\"average_diagonal_accuracy - baseline_DINOv2S_1_LN_2: {average_diagonal(baseline_DINOv2S_1_LN_2_accuracy_matrix)}\")\n",
    "print(f\"average_diagonal_accuracy - eld_DINOv2S_1_LN_2: {average_diagonal(eld_DINOv2S_1_LN_2_accuracy_matrix)}\")\n",
    "print(\"---\")\n",
    "print(f\"average_diagonal_accuracy - baseline_DINOv2S_3_LN_2: {average_diagonal(baseline_DINOv2S_3_LN_2_accuracy_matrix)}\")\n",
    "print(f\"average_diagonal_accuracy - eld_DINOv2S_3_LN_2: {average_diagonal(eld_DINOv2S_3_LN_2_accuracy_matrix)}\")\n",
    "print(\"---\")\n",
    "print(f\"average_diagonal_accuracy - baseline_DINOv2L_1_0_0: {average_diagonal(baseline_DINOv2L_1_0_0_accuracy_matrix)}\")\n",
    "print(f\"average_diagonal_accuracy - eld_DINOv2L_1_0_0: {average_diagonal(eld_DINOv2L_1_0_0_accuracy_matrix)}\")\n",
    "print(\"---\")\n",
    "print(f\"average_diagonal_accuracy - baseline_CLIPvitL_1_0_0: {average_diagonal(baseline_CLIPvitL_1_0_0_accuracy_matrix)}\")\n",
    "print(f\"average_diagonal_accuracy - eld_CLIPvitL_1_0_0: {average_diagonal(eld_CLIPvitL_1_0_0_accuracy_matrix)}\")"
   ]
  },
  {
   "cell_type": "code",
   "execution_count": 9,
   "id": "9e285de3",
   "metadata": {},
   "outputs": [
    {
     "name": "stdout",
     "output_type": "stream",
     "text": [
      "average_cross_dataset_accuracy - baseline_DINOv2S_1_0_0: 0.586\n",
      "average_cross_dataset_accuracy - eld_DINOv2S_1_0_0: 0.658\n",
      "---\n",
      "average_cross_dataset_accuracy - baseline_DINOv2S_1_LN_2: 0.634\n",
      "average_cross_dataset_accuracy - eld_DINOv2S_1_LN_2: 0.668\n",
      "---\n",
      "average_cross_dataset_accuracy - baseline_DINOv2S_3_LN_2: 0.633\n",
      "average_cross_dataset_accuracy - eld_DINOv2S_3_LN_2: 0.664\n",
      "---\n",
      "average_cross_dataset_accuracy - baseline_DINOv2L_1_0_0: 0.593\n",
      "average_cross_dataset_accuracy - eld_DINOv2L_1_0_0: 0.691\n",
      "---\n",
      "average_cross_dataset_accuracy - baseline_CLIPvitL_1_0_0: 0.633\n",
      "average_cross_dataset_accuracy - eld_CLIPvitL_1_0_0: 0.658\n"
     ]
    }
   ],
   "source": [
    "print(f\"average_cross_dataset_accuracy - baseline_DINOv2S_1_0_0: {cross_dataset_score(baseline_DINOv2S_1_0_0_accuracy_matrix)}\")\n",
    "print(f\"average_cross_dataset_accuracy - eld_DINOv2S_1_0_0: {cross_dataset_score(eld_DINOv2S_1_0_0_accuracy_matrix)}\")\n",
    "print(\"---\")\n",
    "print(f\"average_cross_dataset_accuracy - baseline_DINOv2S_1_LN_2: {cross_dataset_score(baseline_DINOv2S_1_LN_2_accuracy_matrix)}\")\n",
    "print(f\"average_cross_dataset_accuracy - eld_DINOv2S_1_LN_2: {cross_dataset_score(eld_DINOv2S_1_LN_2_accuracy_matrix)}\")\n",
    "print(\"---\")\n",
    "print(f\"average_cross_dataset_accuracy - baseline_DINOv2S_3_LN_2: {cross_dataset_score(baseline_DINOv2S_3_LN_2_accuracy_matrix)}\")\n",
    "print(f\"average_cross_dataset_accuracy - eld_DINOv2S_3_LN_2: {cross_dataset_score(eld_DINOv2S_3_LN_2_accuracy_matrix)}\")\n",
    "print(\"---\")\n",
    "print(f\"average_cross_dataset_accuracy - baseline_DINOv2L_1_0_0: {cross_dataset_score(baseline_DINOv2L_1_0_0_accuracy_matrix)}\")\n",
    "print(f\"average_cross_dataset_accuracy - eld_DINOv2L_1_0_0: {cross_dataset_score(eld_DINOv2L_1_0_0_accuracy_matrix)}\")\n",
    "print(\"---\")\n",
    "print(f\"average_cross_dataset_accuracy - baseline_CLIPvitL_1_0_0: {cross_dataset_score(baseline_CLIPvitL_1_0_0_accuracy_matrix)}\")\n",
    "print(f\"average_cross_dataset_accuracy - eld_CLIPvitL_1_0_0: {cross_dataset_score(eld_CLIPvitL_1_0_0_accuracy_matrix)}\")"
   ]
  },
  {
   "cell_type": "markdown",
   "id": "bbf8d8c9",
   "metadata": {},
   "source": [
    "## Optimizing ELD:"
   ]
  },
  {
   "cell_type": "code",
   "execution_count": 10,
   "id": "2f60be45",
   "metadata": {},
   "outputs": [
    {
     "name": "stdout",
     "output_type": "stream",
     "text": [
      "average_diagonal_accuracy - eld_DINOv2L_1_0_0: 0.928\n",
      "average_diagonal_accuracy - eld_DINOv2L_1_LN_1: 0.938\n",
      "average_diagonal_accuracy - eld_DINOv2L_1_LN_1_ELD_1: 0.928\n",
      "average_diagonal_accuracy - eld_DINOv2L_1_LN_1_ELD_2: 0.938\n",
      "average_diagonal_accuracy - eld_DINOv2L_1_LN_1_ELD_3: 0.939\n"
     ]
    }
   ],
   "source": [
    "print(f\"average_diagonal_accuracy - eld_DINOv2L_1_0_0: {average_diagonal(eld_DINOv2L_1_0_0_accuracy_matrix)}\")\n",
    "print(f\"average_diagonal_accuracy - eld_DINOv2L_1_LN_1: {average_diagonal(eld_DINOv2L_1_LN_1_accuracy_matrix)}\") # 56\n",
    "print(f\"average_diagonal_accuracy - eld_DINOv2L_1_LN_1_ELD_1: {average_diagonal(eld_DINOv2L_1_LN_1_ELD_1_accuracy_matrix)}\") # 28\n",
    "print(f\"average_diagonal_accuracy - eld_DINOv2L_1_LN_1_ELD_2: {average_diagonal(eld_DINOv2L_1_LN_1_ELD_2_accuracy_matrix)}\") # 42\n",
    "print(f\"average_diagonal_accuracy - eld_DINOv2L_1_LN_1_ELD_3: {average_diagonal(eld_DINOv2L_1_LN_1_ELD_3_accuracy_matrix)}\") # 84"
   ]
  },
  {
   "cell_type": "code",
   "execution_count": 11,
   "id": "27c8b327",
   "metadata": {},
   "outputs": [
    {
     "name": "stdout",
     "output_type": "stream",
     "text": [
      "average_cross_dataset_accuracy - eld_DINOv2L_1_0_0: 0.691\n",
      "average_cross_dataset_accuracy - eld_DINOv2L_1_LN_1: 0.697\n",
      "average_cross_dataset_accuracy - eld_DINOv2L_1_LN_1_ELD_1: 0.685\n",
      "average_cross_dataset_accuracy - eld_DINOv2L_1_LN_1_ELD_2: 0.694\n",
      "average_cross_dataset_accuracy - eld_DINOv2L_1_LN_1_ELD_3: 0.674\n"
     ]
    }
   ],
   "source": [
    "print(f\"average_cross_dataset_accuracy - eld_DINOv2L_1_0_0: {cross_dataset_score(eld_DINOv2L_1_0_0_accuracy_matrix)}\")\n",
    "print(f\"average_cross_dataset_accuracy - eld_DINOv2L_1_LN_1: {cross_dataset_score(eld_DINOv2L_1_LN_1_accuracy_matrix)}\")\n",
    "print(f\"average_cross_dataset_accuracy - eld_DINOv2L_1_LN_1_ELD_1: {cross_dataset_score(eld_DINOv2L_1_LN_1_ELD_1_accuracy_matrix)}\")\n",
    "print(f\"average_cross_dataset_accuracy - eld_DINOv2L_1_LN_1_ELD_2: {cross_dataset_score(eld_DINOv2L_1_LN_1_ELD_2_accuracy_matrix)}\")\n",
    "print(f\"average_cross_dataset_accuracy - eld_DINOv2L_1_LN_1_ELD_3: {cross_dataset_score(eld_DINOv2L_1_LN_1_ELD_3_accuracy_matrix)}\")"
   ]
  }
 ],
 "metadata": {
  "kernelspec": {
   "display_name": "dll25-agid",
   "language": "python",
   "name": "python3"
  },
  "language_info": {
   "codemirror_mode": {
    "name": "ipython",
    "version": 3
   },
   "file_extension": ".py",
   "mimetype": "text/x-python",
   "name": "python",
   "nbconvert_exporter": "python",
   "pygments_lexer": "ipython3",
   "version": "3.12.11"
  }
 },
 "nbformat": 4,
 "nbformat_minor": 5
}
